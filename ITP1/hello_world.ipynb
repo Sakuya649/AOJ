{
  "nbformat": 4,
  "nbformat_minor": 0,
  "metadata": {
    "colab": {
      "name": "hello_world.ipynb",
      "provenance": [],
      "collapsed_sections": [],
      "mount_file_id": "16WviUZaYgktyluIZpg2VJG7m79v4g9wF",
      "authorship_tag": "ABX9TyMrpAVLaYabMr7mUfdfPyRt"
    },
    "kernelspec": {
      "name": "python3",
      "display_name": "Python 3"
    },
    "language_info": {
      "name": "python"
    }
  },
  "cells": [
    {
      "cell_type": "code",
      "metadata": {
        "colab": {
          "base_uri": "https://localhost:8080/"
        },
        "id": "9d7Giy8XHIje",
        "outputId": "0ea2ff05-9b5a-406c-8025-63be1b1a2469"
      },
      "source": [
        "print(\"Hello World\")"
      ],
      "execution_count": null,
      "outputs": [
        {
          "output_type": "stream",
          "name": "stdout",
          "text": [
            "Hello World\n"
          ]
        }
      ]
    }
  ]
}