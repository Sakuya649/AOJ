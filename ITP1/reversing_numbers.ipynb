{
  "nbformat": 4,
  "nbformat_minor": 0,
  "metadata": {
    "colab": {
      "name": "reversing_numbers.ipynb",
      "provenance": [],
      "collapsed_sections": [],
      "authorship_tag": "ABX9TyPynozZ/g9pZnE+nDkl3Lo2"
    },
    "kernelspec": {
      "name": "python3",
      "display_name": "Python 3"
    },
    "language_info": {
      "name": "python"
    }
  },
  "cells": [
    {
      "cell_type": "code",
      "metadata": {
        "colab": {
          "base_uri": "https://localhost:8080/"
        },
        "id": "URHYHhBMZFjg",
        "outputId": "2744ed9d-08e0-4f74-d611-9c268a4c5500"
      },
      "source": [
        "_ = input()\n",
        "num_list = [int(x) for x in input().split()]\n",
        "num_list.reverse()\n",
        "print(*num_list)"
      ],
      "execution_count": 2,
      "outputs": [
        {
          "output_type": "stream",
          "name": "stdout",
          "text": [
            "8\n",
            "3 3 4 4 5 8 7 9\n",
            "9 7 8 5 4 4 3 3\n"
          ]
        }
      ]
    }
  ]
}