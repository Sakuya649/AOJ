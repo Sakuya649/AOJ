{
  "nbformat": 4,
  "nbformat_minor": 0,
  "metadata": {
    "colab": {
      "name": "transformation.ipynb",
      "provenance": [],
      "authorship_tag": "ABX9TyMuCqIYvBcj/c/znr39jsYp"
    },
    "kernelspec": {
      "name": "python3",
      "display_name": "Python 3"
    },
    "language_info": {
      "name": "python"
    }
  },
  "cells": [
    {
      "cell_type": "code",
      "execution_count": 6,
      "metadata": {
        "colab": {
          "base_uri": "https://localhost:8080/"
        },
        "id": "8lAPcSl9eqUt",
        "outputId": "2dac32ab-d096-4709-c88d-1121864baaa9"
      },
      "outputs": [
        {
          "output_type": "stream",
          "name": "stdout",
          "text": [
            "abcde\n",
            "3\n",
            "replace 1 3 xyz\n",
            "reverse 0 2\n",
            "print 1 4\n",
            "xaze\n"
          ]
        }
      ],
      "source": [
        "s = input()\n",
        "for _ in range(int(input())):\n",
        "  q = input().split()\n",
        "  a, b = map(int,q[1:3])\n",
        "  b += 1\n",
        "  if q[0] == \"print\":\n",
        "    print(s[a:b])\n",
        "  elif q[0] == \"reverse\":\n",
        "    s = s[:a] + s[a:b][::-1] + s[b:]\n",
        "  else:\n",
        "    s = s[:a] + q[3] + s[b:]"
      ]
    }
  ]
}