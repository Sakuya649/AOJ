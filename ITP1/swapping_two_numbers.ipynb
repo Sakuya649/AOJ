{
  "nbformat": 4,
  "nbformat_minor": 0,
  "metadata": {
    "colab": {
      "name": "swapping_two_numbers.ipynb",
      "provenance": [],
      "collapsed_sections": [],
      "authorship_tag": "ABX9TyPSJHEsosk++740VqyDSjyh"
    },
    "kernelspec": {
      "name": "python3",
      "display_name": "Python 3"
    },
    "language_info": {
      "name": "python"
    }
  },
  "cells": [
    {
      "cell_type": "code",
      "metadata": {
        "colab": {
          "base_uri": "https://localhost:8080/"
        },
        "id": "BO07eIwDpLUU",
        "outputId": "eb07a6ea-b4ea-4849-af39-5315237d1260"
      },
      "source": [
        "while True:\n",
        "  x, y = sorted(map(int,input().split()))\n",
        "  if x == 0 and y == 0:\n",
        "    break\n",
        "  print(x, y)"
      ],
      "execution_count": 7,
      "outputs": [
        {
          "name": "stdout",
          "output_type": "stream",
          "text": [
            "3 5\n",
            "3 5\n",
            "5 3\n",
            "3 5\n",
            "0 0\n"
          ]
        }
      ]
    }
  ]
}