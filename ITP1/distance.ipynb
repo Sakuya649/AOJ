{
  "nbformat": 4,
  "nbformat_minor": 0,
  "metadata": {
    "colab": {
      "name": "distance.ipynb",
      "provenance": [],
      "authorship_tag": "ABX9TyMNu+7bYkBo2UAI9oNG7+gi"
    },
    "kernelspec": {
      "name": "python3",
      "display_name": "Python 3"
    },
    "language_info": {
      "name": "python"
    }
  },
  "cells": [
    {
      "cell_type": "code",
      "execution_count": 6,
      "metadata": {
        "colab": {
          "base_uri": "https://localhost:8080/"
        },
        "id": "8jehTqIIkUc_",
        "outputId": "2966c09e-be06-4590-ec9b-4c7d1d951731"
      },
      "outputs": [
        {
          "output_type": "stream",
          "name": "stdout",
          "text": [
            "0 0 1 1\n",
            "1.4142135623730951\n"
          ]
        }
      ],
      "source": [
        "import math\n",
        "x1, y1, x2, y2 = map(float, input().split())\n",
        "ans = abs(x1 - x2) ** 2 + abs(y1 - y2) ** 2\n",
        "print(math.sqrt(ans))"
      ]
    }
  ]
}