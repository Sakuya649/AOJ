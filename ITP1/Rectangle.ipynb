{
  "nbformat": 4,
  "nbformat_minor": 0,
  "metadata": {
    "colab": {
      "name": "Rectangle.ipynb",
      "provenance": [],
      "authorship_tag": "ABX9TyM3OaXwKtwcrKWs2+YZLAap"
    },
    "kernelspec": {
      "name": "python3",
      "display_name": "Python 3"
    },
    "language_info": {
      "name": "python"
    }
  },
  "cells": [
    {
      "cell_type": "code",
      "metadata": {
        "colab": {
          "base_uri": "https://localhost:8080/"
        },
        "id": "lR0gHQ0ePvPy",
        "outputId": "4dfef1ab-f004-4f69-9373-265dae7117fb"
      },
      "source": [
        "a, b = map(int,input().split())\n",
        "print(a*b, 2*(a+b))"
      ],
      "execution_count": 4,
      "outputs": [
        {
          "output_type": "stream",
          "name": "stdout",
          "text": [
            "3 5\n",
            "15 16\n"
          ]
        }
      ]
    }
  ]
}