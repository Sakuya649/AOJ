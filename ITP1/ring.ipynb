{
  "nbformat": 4,
  "nbformat_minor": 0,
  "metadata": {
    "colab": {
      "name": "ring.ipynb",
      "provenance": [],
      "authorship_tag": "ABX9TyPhfhmKe2nIhzF2QsWm6i/v"
    },
    "kernelspec": {
      "name": "python3",
      "display_name": "Python 3"
    },
    "language_info": {
      "name": "python"
    }
  },
  "cells": [
    {
      "cell_type": "code",
      "execution_count": 2,
      "metadata": {
        "colab": {
          "base_uri": "https://localhost:8080/"
        },
        "id": "SC6UnhTrZvA9",
        "outputId": "37d814fa-9a79-4eab-c9d6-f146105e6c40"
      },
      "outputs": [
        {
          "output_type": "stream",
          "name": "stdout",
          "text": [
            "vanceknowledgetoad\n",
            "advanced\n",
            "No\n"
          ]
        }
      ],
      "source": [
        "s = input()\n",
        "p = input()\n",
        "s = s * 2\n",
        "if p in s:\n",
        "  print(\"Yes\")\n",
        "else:\n",
        "  print(\"No\")"
      ]
    }
  ]
}