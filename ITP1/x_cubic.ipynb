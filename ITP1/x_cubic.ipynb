{
  "nbformat": 4,
  "nbformat_minor": 0,
  "metadata": {
    "colab": {
      "name": "x_cubic.ipynb",
      "provenance": [],
      "mount_file_id": "1sgKE0yjRmwD7yR9f1B1l5prfUN9SRHxm",
      "authorship_tag": "ABX9TyPSqjWb4Bf6mgsrQuRkQ8jH"
    },
    "kernelspec": {
      "name": "python3",
      "display_name": "Python 3"
    },
    "language_info": {
      "name": "python"
    }
  },
  "cells": [
    {
      "cell_type": "code",
      "metadata": {
        "colab": {
          "base_uri": "https://localhost:8080/"
        },
        "id": "TfMowxAKNakx",
        "outputId": "1d3bda0d-eefd-476f-e38e-016f5ba094fb"
      },
      "source": [
        "x = int(input())\n",
        "print(x ** 3)"
      ],
      "execution_count": 1,
      "outputs": [
        {
          "output_type": "stream",
          "name": "stdout",
          "text": [
            "2\n",
            "8\n"
          ]
        }
      ]
    }
  ]
}