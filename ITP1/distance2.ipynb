{
  "nbformat": 4,
  "nbformat_minor": 0,
  "metadata": {
    "colab": {
      "name": "distance2.ipynb",
      "provenance": [],
      "authorship_tag": "ABX9TyMV26kn0eXWRePyYuxmYf+M"
    },
    "kernelspec": {
      "name": "python3",
      "display_name": "Python 3"
    },
    "language_info": {
      "name": "python"
    }
  },
  "cells": [
    {
      "cell_type": "code",
      "execution_count": 3,
      "metadata": {
        "colab": {
          "base_uri": "https://localhost:8080/"
        },
        "id": "j-uOBwesMCOp",
        "outputId": "61799388-f5fb-4e6b-fe7e-a37417bf6cf6"
      },
      "outputs": [
        {
          "output_type": "stream",
          "name": "stdout",
          "text": [
            "3\n",
            "1 2 3\n",
            "2 0 4\n",
            "4.0\n",
            "2.449489742783178\n",
            "2.154434690031884\n",
            "2\n"
          ]
        }
      ],
      "source": [
        "n = int(input())\n",
        "d1, d2, d3, di = 0.0, 0.0, 0.0, []\n",
        "x_list = list(map(int, input().split()))\n",
        "y_list = list(map(int, input().split()))\n",
        "for i in range(n):\n",
        "  d1 += abs(x_list[i] - y_list[i])\n",
        "  d2 += (x_list[i] - y_list[i])**2\n",
        "  d3 += abs(x_list[i] - y_list[i])**3\n",
        "  di.append(abs(x_list[i] - y_list[i]))\n",
        "\n",
        "print(d1)\n",
        "print(d2**0.5)\n",
        "print(d3**(1/3))\n",
        "print(max(di))"
      ]
    }
  ]
}