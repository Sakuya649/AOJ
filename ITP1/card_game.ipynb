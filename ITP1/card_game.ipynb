{
  "nbformat": 4,
  "nbformat_minor": 0,
  "metadata": {
    "colab": {
      "name": "card_game.ipynb",
      "provenance": [],
      "authorship_tag": "ABX9TyOQ3BxWo53hfmKP0iOyxA0P"
    },
    "kernelspec": {
      "name": "python3",
      "display_name": "Python 3"
    },
    "language_info": {
      "name": "python"
    }
  },
  "cells": [
    {
      "cell_type": "code",
      "execution_count": 1,
      "metadata": {
        "colab": {
          "base_uri": "https://localhost:8080/"
        },
        "id": "vilw7kVmdTCq",
        "outputId": "2fbfac9e-3275-4fe4-dcf1-ef331fb07d3c"
      },
      "outputs": [
        {
          "output_type": "stream",
          "name": "stdout",
          "text": [
            "3\n",
            "cat dog\n",
            "fish fish\n",
            "lion tiger\n",
            "1 7\n"
          ]
        }
      ],
      "source": [
        "n = int(input())\n",
        "t_score, h_score = 0, 0\n",
        "for _ in range(n):\n",
        "  t, h = input().split()\n",
        "  if t < h:\n",
        "    h_score += 3\n",
        "  elif t > h:\n",
        "    t_score += 3\n",
        "  else:\n",
        "    t_score += 1\n",
        "    h_score += 1\n",
        "print(t_score, h_score)"
      ]
    }
  ]
}