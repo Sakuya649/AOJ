{
  "nbformat": 4,
  "nbformat_minor": 0,
  "metadata": {
    "colab": {
      "name": "circle.ipynb",
      "provenance": [],
      "authorship_tag": "ABX9TyPBjoAjJuQpjDHeYi17/s2L"
    },
    "kernelspec": {
      "name": "python3",
      "display_name": "Python 3"
    },
    "language_info": {
      "name": "python"
    }
  },
  "cells": [
    {
      "cell_type": "code",
      "metadata": {
        "colab": {
          "base_uri": "https://localhost:8080/"
        },
        "id": "iEaql3yMmOqC",
        "outputId": "8083e06d-83f7-47a9-bf0c-cd1ef53bf12e"
      },
      "source": [
        "import math\n",
        "r = float(input())\n",
        "print(math.pi * (r ** 2), 2 * math.pi * r)"
      ],
      "execution_count": 4,
      "outputs": [
        {
          "output_type": "stream",
          "name": "stdout",
          "text": [
            "3\n",
            "28.274333882308138 18.84955592153876\n"
          ]
        }
      ]
    }
  ]
}