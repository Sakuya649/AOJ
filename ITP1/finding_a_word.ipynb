{
  "nbformat": 4,
  "nbformat_minor": 0,
  "metadata": {
    "colab": {
      "name": "finding_a_word.ipynb",
      "provenance": [],
      "authorship_tag": "ABX9TyN7kNjzjOvDZx4aYf8nJHIS"
    },
    "kernelspec": {
      "name": "python3",
      "display_name": "Python 3"
    },
    "language_info": {
      "name": "python"
    }
  },
  "cells": [
    {
      "cell_type": "code",
      "execution_count": 4,
      "metadata": {
        "colab": {
          "base_uri": "https://localhost:8080/"
        },
        "id": "AhyQ9t8yYJrc",
        "outputId": "690b874c-d04d-4238-caeb-fff18697bdcb"
      },
      "outputs": [
        {
          "output_type": "stream",
          "name": "stdout",
          "text": [
            "computer\n",
            "Nurtures computer scientists and highly skilled computer engineers\n",
            "who will create and exploit knowledge for the new era\n",
            "Provides an outstanding computer environment\n",
            "END_OF_TEXT\n",
            "3\n"
          ]
        }
      ],
      "source": [
        "w = input()\n",
        "s = []\n",
        "while True:\n",
        "  tmp = input()\n",
        "  if tmp == \"END_OF_TEXT\":\n",
        "    break\n",
        "  s += tmp.lower().split()\n",
        "print(s.count(w))"
      ]
    }
  ]
}