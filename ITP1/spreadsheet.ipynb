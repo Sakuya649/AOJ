{
  "nbformat": 4,
  "nbformat_minor": 0,
  "metadata": {
    "colab": {
      "name": "spreadsheet.ipynb",
      "provenance": [],
      "collapsed_sections": [],
      "authorship_tag": "ABX9TyPY8MGQryRDhoRV1rvut6/a"
    },
    "kernelspec": {
      "name": "python3",
      "display_name": "Python 3"
    },
    "language_info": {
      "name": "python"
    }
  },
  "cells": [
    {
      "cell_type": "code",
      "metadata": {
        "colab": {
          "base_uri": "https://localhost:8080/"
        },
        "id": "o313O43nQpWc",
        "outputId": "2e3fcd5d-6bbc-4eae-d107-e9b30e3b1d46"
      },
      "source": [
        "r, c = map(int, input().split())\n",
        "num_list = [[0 for _ in range(c+1)] for _ in range(r+1)]\n",
        "for i in range(r):\n",
        "  temp_list = [int(x) for x in input().split()]\n",
        "  for j in range(c):\n",
        "    num_list[i][j] = temp_list[j]\n",
        "    num_list[i][c] += temp_list[j]\n",
        "    num_list[r][j] += temp_list[j]\n",
        "    num_list[r][c] += temp_list[j]\n",
        "\n",
        "for num in num_list:\n",
        "  print(*num)"
      ],
      "execution_count": 7,
      "outputs": [
        {
          "output_type": "stream",
          "name": "stdout",
          "text": [
            "4 5\n",
            "1 1 3 4 5\n",
            "2 2 2 4 5\n",
            "3 3 0 1 1\n",
            "2 3 4 4 6\n",
            "1 1 3 4 5 14\n",
            "2 2 2 4 5 15\n",
            "3 3 0 1 1 8\n",
            "2 3 4 4 6 19\n",
            "8 9 9 13 17 56\n"
          ]
        }
      ]
    }
  ]
}