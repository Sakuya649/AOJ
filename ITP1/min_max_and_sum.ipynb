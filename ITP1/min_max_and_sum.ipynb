{
  "nbformat": 4,
  "nbformat_minor": 0,
  "metadata": {
    "colab": {
      "name": "min_max_and_sum.ipynb",
      "provenance": [],
      "collapsed_sections": [],
      "mount_file_id": "1JpgLqoZbCzU0FRlBOCGtoJK42HnXOgmG",
      "authorship_tag": "ABX9TyNcrUEjDTKZMKAw4gaQ7wvM"
    },
    "kernelspec": {
      "name": "python3",
      "display_name": "Python 3"
    },
    "language_info": {
      "name": "python"
    }
  },
  "cells": [
    {
      "cell_type": "code",
      "metadata": {
        "colab": {
          "base_uri": "https://localhost:8080/"
        },
        "id": "mr2lAuyQqKpY",
        "outputId": "16006493-5e47-4a99-b363-84115400cc6a"
      },
      "source": [
        "n = int(input())\n",
        "num_list = [int(x) for x in input().split()]\n",
        "print(min(num_list), max(num_list), sum(num_list))"
      ],
      "execution_count": 5,
      "outputs": [
        {
          "output_type": "stream",
          "name": "stdout",
          "text": [
            "5\n",
            "10 1 5 4 17\n",
            "1 17 37\n"
          ]
        }
      ]
    }
  ]
}