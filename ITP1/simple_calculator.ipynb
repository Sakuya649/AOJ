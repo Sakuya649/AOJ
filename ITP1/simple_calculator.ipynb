{
  "nbformat": 4,
  "nbformat_minor": 0,
  "metadata": {
    "colab": {
      "name": "simple_calculator.ipynb",
      "provenance": [],
      "authorship_tag": "ABX9TyNxorP26uU57adB31IbXVbO"
    },
    "kernelspec": {
      "name": "python3",
      "display_name": "Python 3"
    },
    "language_info": {
      "name": "python"
    }
  },
  "cells": [
    {
      "cell_type": "code",
      "metadata": {
        "colab": {
          "base_uri": "https://localhost:8080/"
        },
        "id": "XFvaISiWoAQo",
        "outputId": "d2715412-56c6-4a51-e467-ba1f0e7b6d3d"
      },
      "source": [
        "while True:\n",
        "  a, op, b = input().split()\n",
        "  a, b = int(a), int(b)\n",
        "  if op == \"?\":\n",
        "    break\n",
        "  elif op == \"+\":\n",
        "    print(a + b)\n",
        "  elif op == \"-\":\n",
        "    print(a - b )\n",
        "  elif op == \"*\":\n",
        "    print(a * b)\n",
        "  else:\n",
        "    print(a // b)\n"
      ],
      "execution_count": 6,
      "outputs": [
        {
          "name": "stdout",
          "output_type": "stream",
          "text": [
            "1 + 2\n",
            "3\n",
            "56 - 18\n",
            "38\n",
            "100 / 10\n",
            "10\n",
            "13 * 2\n",
            "26\n",
            "0 ? 0\n"
          ]
        }
      ]
    }
  ]
}