{
  "nbformat": 4,
  "nbformat_minor": 0,
  "metadata": {
    "colab": {
      "name": "small_large_or_equal.ipynb",
      "provenance": [],
      "authorship_tag": "ABX9TyMdArzMKzVPChGwlJCZtl48"
    },
    "kernelspec": {
      "name": "python3",
      "display_name": "Python 3"
    },
    "language_info": {
      "name": "python"
    }
  },
  "cells": [
    {
      "cell_type": "code",
      "metadata": {
        "colab": {
          "base_uri": "https://localhost:8080/"
        },
        "id": "jsIYUXHNrFcK",
        "outputId": "30759220-91aa-42a2-df7b-77be2679595c"
      },
      "source": [
        "a, b = map(int,input().split())\n",
        "if a == b:\n",
        "  print(\"a == b\")\n",
        "elif a < b:\n",
        "  print(\"a < b\")\n",
        "else:\n",
        "  print(\"a > b\")"
      ],
      "execution_count": 3,
      "outputs": [
        {
          "output_type": "stream",
          "name": "stdout",
          "text": [
            "5 5\n",
            "a == b\n"
          ]
        }
      ]
    }
  ]
}