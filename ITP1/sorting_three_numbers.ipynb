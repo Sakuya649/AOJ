{
  "nbformat": 4,
  "nbformat_minor": 0,
  "metadata": {
    "colab": {
      "name": "sorting_three_numbers.ipynb",
      "provenance": [],
      "authorship_tag": "ABX9TyOon2tiguuK3Ti6Yu12lZfu"
    },
    "kernelspec": {
      "name": "python3",
      "display_name": "Python 3"
    },
    "language_info": {
      "name": "python"
    }
  },
  "cells": [
    {
      "cell_type": "code",
      "metadata": {
        "colab": {
          "base_uri": "https://localhost:8080/"
        },
        "id": "UYbT8AcwuHiL",
        "outputId": "606df444-e644-4f1e-bdf8-d73fbd74a822"
      },
      "source": [
        "num_list = list(map(int,input().split()))\n",
        "num_list.sort()\n",
        "print(*num_list)"
      ],
      "execution_count": 6,
      "outputs": [
        {
          "output_type": "stream",
          "name": "stdout",
          "text": [
            "5 6 1\n",
            "1 5 6\n"
          ]
        }
      ]
    }
  ]
}