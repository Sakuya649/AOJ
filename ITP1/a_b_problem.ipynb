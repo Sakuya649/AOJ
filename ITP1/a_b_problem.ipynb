{
  "nbformat": 4,
  "nbformat_minor": 0,
  "metadata": {
    "colab": {
      "name": "a_b_problem.ipynb",
      "provenance": [],
      "authorship_tag": "ABX9TyPT6FQwzICGiTUjsMslPJAD"
    },
    "kernelspec": {
      "name": "python3",
      "display_name": "Python 3"
    },
    "language_info": {
      "name": "python"
    }
  },
  "cells": [
    {
      "cell_type": "code",
      "metadata": {
        "colab": {
          "base_uri": "https://localhost:8080/"
        },
        "id": "Ls4iBh7X2NMl",
        "outputId": "c6fb97f5-94c1-4a1a-9aaf-c234967fd124"
      },
      "source": [
        "a, b = map(int, input().split())\n",
        "print(a // b, a % b, \"{:.5f}\".format(a/b))"
      ],
      "execution_count": 9,
      "outputs": [
        {
          "output_type": "stream",
          "name": "stdout",
          "text": [
            "3 2\n",
            "1 1 1.50000\n"
          ]
        }
      ]
    }
  ]
}