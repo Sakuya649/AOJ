{
  "nbformat": 4,
  "nbformat_minor": 0,
  "metadata": {
    "colab": {
      "name": "circle_in_a_rectangle.ipynb",
      "provenance": [],
      "authorship_tag": "ABX9TyMLLFybV8g2zzxpS08bmB78"
    },
    "kernelspec": {
      "name": "python3",
      "display_name": "Python 3"
    },
    "language_info": {
      "name": "python"
    }
  },
  "cells": [
    {
      "cell_type": "code",
      "metadata": {
        "colab": {
          "base_uri": "https://localhost:8080/"
        },
        "id": "4_MoiJjB2Ofy",
        "outputId": "f9c313f8-e16e-4399-8028-898fab67f57d"
      },
      "source": [
        "w, h, x, y, r = map(int,input().split())\n",
        "if w < x + r or x - r < 0 or h < y + r or y - r < 0:\n",
        "  print(\"No\")\n",
        "else:\n",
        "  print(\"Yes\")"
      ],
      "execution_count": 3,
      "outputs": [
        {
          "output_type": "stream",
          "name": "stdout",
          "text": [
            "5 4 2 4 1\n",
            "No\n"
          ]
        }
      ]
    }
  ]
}