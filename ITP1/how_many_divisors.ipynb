{
  "nbformat": 4,
  "nbformat_minor": 0,
  "metadata": {
    "colab": {
      "name": "how_many_divisors.ipynb",
      "provenance": [],
      "authorship_tag": "ABX9TyPSjyA2tK+LZNngLe3jijWu"
    },
    "kernelspec": {
      "name": "python3",
      "display_name": "Python 3"
    },
    "language_info": {
      "name": "python"
    }
  },
  "cells": [
    {
      "cell_type": "code",
      "metadata": {
        "colab": {
          "base_uri": "https://localhost:8080/"
        },
        "id": "Mtuqg3_DFgOc",
        "outputId": "291ed253-9060-4bdd-e883-e05e616d9f91"
      },
      "source": [
        "a, b, c = map(int,input().split())\n",
        "num_list = [i for i in range(1, c+1) if c % i ==0]\n",
        "count = 0\n",
        "for num in num_list:\n",
        "  if a <= num and num <= b:\n",
        "    count += 1\n",
        "print(count)"
      ],
      "execution_count": 2,
      "outputs": [
        {
          "output_type": "stream",
          "name": "stdout",
          "text": [
            "5 14 80\n",
            "3\n"
          ]
        }
      ]
    },
    {
      "cell_type": "code",
      "metadata": {
        "id": "rfmKqA4w1rV0"
      },
      "source": [
        "def another_ans():\n",
        "  a, b, c = map(int, input().split())\n",
        "  print(sum(c % x == 0 for x in range(a, b+1)))"
      ],
      "execution_count": 3,
      "outputs": []
    }
  ]
}