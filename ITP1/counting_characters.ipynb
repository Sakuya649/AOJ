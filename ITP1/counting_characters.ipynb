{
  "nbformat": 4,
  "nbformat_minor": 0,
  "metadata": {
    "colab": {
      "name": "counting_characters.ipynb",
      "provenance": [],
      "collapsed_sections": [],
      "authorship_tag": "ABX9TyN2QCNsQeVz73kgbYv7a9qi"
    },
    "kernelspec": {
      "name": "python3",
      "display_name": "Python 3"
    },
    "language_info": {
      "name": "python"
    }
  },
  "cells": [
    {
      "cell_type": "code",
      "metadata": {
        "colab": {
          "base_uri": "https://localhost:8080/"
        },
        "id": "pq0zVL426IfD",
        "outputId": "18d2e07e-56d9-4652-ec18-a8f5ce7a3463"
      },
      "source": [
        "s = ''\n",
        "while True:\n",
        "  try:\n",
        "    s += input().lower()\n",
        "  except:\n",
        "    break\n",
        "for i in \"abcdefghijklmnopqrstuvwxyz\":\n",
        "  print(i + ' : ' + str(s.count(i)))"
      ],
      "execution_count": 3,
      "outputs": [
        {
          "output_type": "stream",
          "name": "stdout",
          "text": [
            "This is a pen.\n",
            "\n",
            "a : 1\n",
            "b : 0\n",
            "c : 0\n",
            "d : 0\n",
            "e : 1\n",
            "f : 0\n",
            "g : 0\n",
            "h : 1\n",
            "i : 2\n",
            "j : 0\n",
            "k : 0\n",
            "l : 0\n",
            "m : 0\n",
            "n : 1\n",
            "o : 0\n",
            "p : 1\n",
            "q : 0\n",
            "r : 0\n",
            "s : 2\n",
            "t : 1\n",
            "u : 0\n",
            "v : 0\n",
            "w : 0\n",
            "x : 0\n",
            "y : 0\n",
            "z : 0\n"
          ]
        }
      ]
    }
  ]
}