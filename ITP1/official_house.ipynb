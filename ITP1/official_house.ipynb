{
  "nbformat": 4,
  "nbformat_minor": 0,
  "metadata": {
    "colab": {
      "name": "official_house.ipynb",
      "provenance": [],
      "authorship_tag": "ABX9TyOySSV4nJyy6kh+Ft9UOea8"
    },
    "kernelspec": {
      "name": "python3",
      "display_name": "Python 3"
    },
    "language_info": {
      "name": "python"
    }
  },
  "cells": [
    {
      "cell_type": "code",
      "metadata": {
        "colab": {
          "base_uri": "https://localhost:8080/"
        },
        "id": "K9YcdwAefBGN",
        "outputId": "84b870a4-d4d1-4e9b-9746-3b243f51354d"
      },
      "source": [
        "house_list = [[[0 for i in range(10)] for j in range(3)] for k in range(4)]\n",
        "for _ in range(int(input())):\n",
        "  b, f, r, v = map(int,input().split())\n",
        "  house_list[b-1][f-1][r-1] += v\n",
        "for k in range(4):\n",
        "  for j in range(3):\n",
        "    for i in range(10):\n",
        "      print(\" \" + str(house_list[k][j][i]), end=\"\")\n",
        "    print()\n",
        "  if k < 3:\n",
        "    print(\"####################\")"
      ],
      "execution_count": 12,
      "outputs": [
        {
          "output_type": "stream",
          "name": "stdout",
          "text": [
            "3\n",
            "1 1 3 8\n",
            "3 2 2 7\n",
            "4 3 8 1\n",
            " 0 0 8 0 0 0 0 0 0 0\n",
            " 0 0 0 0 0 0 0 0 0 0\n",
            " 0 0 0 0 0 0 0 0 0 0\n",
            "####################\n",
            " 0 0 0 0 0 0 0 0 0 0\n",
            " 0 0 0 0 0 0 0 0 0 0\n",
            " 0 0 0 0 0 0 0 0 0 0\n",
            "####################\n",
            " 0 0 0 0 0 0 0 0 0 0\n",
            " 0 7 0 0 0 0 0 0 0 0\n",
            " 0 0 0 0 0 0 0 0 0 0\n",
            "####################\n",
            " 0 0 0 0 0 0 0 0 0 0\n",
            " 0 0 0 0 0 0 0 0 0 0\n",
            " 0 0 0 0 0 0 0 1 0 0\n"
          ]
        }
      ]
    }
  ]
}