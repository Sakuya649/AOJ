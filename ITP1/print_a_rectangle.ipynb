{
  "nbformat": 4,
  "nbformat_minor": 0,
  "metadata": {
    "colab": {
      "name": "print_a_rectangle.ipynb",
      "provenance": [],
      "authorship_tag": "ABX9TyN1D9KyEbQjCYADp2riiVSI"
    },
    "kernelspec": {
      "name": "python3",
      "display_name": "Python 3"
    },
    "language_info": {
      "name": "python"
    }
  },
  "cells": [
    {
      "cell_type": "code",
      "metadata": {
        "colab": {
          "base_uri": "https://localhost:8080/"
        },
        "id": "SjBsnMNns6XX",
        "outputId": "69c75f34-4025-4d9d-a873-3d19fbadf224"
      },
      "source": [
        "while True:\n",
        "  h, w = map(int, input().split())\n",
        "  if h == 0 and w == 0:\n",
        "    break\n",
        "  else:\n",
        "    for i in range(h):\n",
        "      print(\"#\"*w)\n",
        "  print(\"\")"
      ],
      "execution_count": 8,
      "outputs": [
        {
          "name": "stdout",
          "output_type": "stream",
          "text": [
            "3 4\n",
            "####\n",
            "####\n",
            "####\n",
            "\n",
            "5 6\n",
            "######\n",
            "######\n",
            "######\n",
            "######\n",
            "######\n",
            "\n",
            "2 2\n",
            "##\n",
            "##\n",
            "\n",
            "0 0\n"
          ]
        }
      ]
    },
    {
      "cell_type": "markdown",
      "metadata": {
        "id": "7Kw0_fr2vRLM"
      },
      "source": [
        " print(('#'*w+'\\n')*h)\n",
        "\n",
        " とするとfor文が不要になる．"
      ]
    }
  ]
}