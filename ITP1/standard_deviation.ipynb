{
  "nbformat": 4,
  "nbformat_minor": 0,
  "metadata": {
    "colab": {
      "name": "standard_deviation.ipynb",
      "provenance": [],
      "authorship_tag": "ABX9TyOEOmlYr2CIqyzQ6AI1x7Jb"
    },
    "kernelspec": {
      "name": "python3",
      "display_name": "Python 3"
    },
    "language_info": {
      "name": "python"
    }
  },
  "cells": [
    {
      "cell_type": "code",
      "execution_count": 2,
      "metadata": {
        "colab": {
          "base_uri": "https://localhost:8080/"
        },
        "id": "uYcUbGnwKlRS",
        "outputId": "dd261062-d6d4-47c7-d0ee-bc96055a2b43"
      },
      "outputs": [
        {
          "name": "stdout",
          "output_type": "stream",
          "text": [
            "5\n",
            "70 80 100 90 20\n",
            "27.85677655436824\n",
            "3\n",
            "80 80 80\n",
            "0.0\n",
            "0\n"
          ]
        }
      ],
      "source": [
        "import statistics\n",
        "while True:\n",
        "  n = int(input())\n",
        "  if n == 0:\n",
        "    break\n",
        "  s_list = list(map(int, input().split()))\n",
        "  print(statistics.pstdev(s_list))"
      ]
    }
  ]
}