{
  "nbformat": 4,
  "nbformat_minor": 0,
  "metadata": {
    "colab": {
      "name": "matrix_multiplication.ipynb",
      "provenance": [],
      "authorship_tag": "ABX9TyN9ft/iaLYiVlHFunDUMyUh"
    },
    "kernelspec": {
      "name": "python3",
      "display_name": "Python 3"
    },
    "language_info": {
      "name": "python"
    }
  },
  "cells": [
    {
      "cell_type": "code",
      "metadata": {
        "colab": {
          "base_uri": "https://localhost:8080/"
        },
        "id": "CfjDkHJTmdsk",
        "outputId": "b3a7e234-2c2a-4e26-86e0-749c80f87f71"
      },
      "source": [
        "n, m, l = map(int, input().split())\n",
        "mat1 = [list(map(int,input().split())) for _ in range(n)]\n",
        "mat2 = [list(map(int,input().split())) for _ in range(m)]\n",
        "ans_list = [[0 for _ in range(l)] for _ in range(n)]\n",
        "for i in range(n):\n",
        "  for j in range(l):\n",
        "    for k in range(m):\n",
        "      ans_list[i][j] +=mat1[i][k] * mat2[k][j]\n",
        "for ans in ans_list:\n",
        "  print(*ans)"
      ],
      "execution_count": 10,
      "outputs": [
        {
          "output_type": "stream",
          "name": "stdout",
          "text": [
            "3 2 3\n",
            "1 2\n",
            "0 3\n",
            "4 5\n",
            "1 2 1\n",
            "0 3 2\n",
            "1 8 5\n",
            "0 9 6\n",
            "4 23 14\n"
          ]
        }
      ]
    }
  ]
}