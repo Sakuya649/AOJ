{
  "nbformat": 4,
  "nbformat_minor": 0,
  "metadata": {
    "colab": {
      "name": "how_many_ways.ipynb",
      "provenance": [],
      "authorship_tag": "ABX9TyMQSV1hym1LnEB0cRJWVTe0"
    },
    "kernelspec": {
      "name": "python3",
      "display_name": "Python 3"
    },
    "language_info": {
      "name": "python"
    }
  },
  "cells": [
    {
      "cell_type": "code",
      "metadata": {
        "colab": {
          "base_uri": "https://localhost:8080/"
        },
        "id": "YUtWDepKO-fq",
        "outputId": "ee181f99-a93a-43a1-8771-0f8282aeb151"
      },
      "source": [
        "import itertools\n",
        "while True:\n",
        "  n, x = map(int, input().split())\n",
        "  if n == 0 and x == 0:\n",
        "    break\n",
        "  comb_list = list(itertools.combinations([int(i) for i in range(1, n+1)], 3))\n",
        "  count = 0\n",
        "  for comb in comb_list:\n",
        "    if sum(comb) == x:\n",
        "      count += 1\n",
        "  print(count)"
      ],
      "execution_count": 10,
      "outputs": [
        {
          "name": "stdout",
          "output_type": "stream",
          "text": [
            "5 9\n",
            "2\n",
            "0 0\n"
          ]
        }
      ]
    },
    {
      "cell_type": "code",
      "metadata": {
        "id": "IzkFx6CVsAtd"
      },
      "source": [
        "def another_ans():\n",
        "  while True:\n",
        "    n,x=map(int,input().split())\n",
        "    if n+x==0:\n",
        "      break\n",
        "    ans = 0\n",
        "    for a in range(1, n+1):\n",
        "        for b in range(a+1, n+1):\n",
        "            c = x - a - b\n",
        "            if b < c <= n:\n",
        "                ans += 1\n",
        "    print(ans)"
      ],
      "execution_count": null,
      "outputs": []
    }
  ]
}