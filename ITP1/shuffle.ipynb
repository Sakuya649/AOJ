{
  "nbformat": 4,
  "nbformat_minor": 0,
  "metadata": {
    "colab": {
      "name": "shuffle.ipynb",
      "provenance": [],
      "authorship_tag": "ABX9TyN6zwWCEgJsVqrRlzIGyKA3"
    },
    "kernelspec": {
      "name": "python3",
      "display_name": "Python 3"
    },
    "language_info": {
      "name": "python"
    }
  },
  "cells": [
    {
      "cell_type": "code",
      "execution_count": 3,
      "metadata": {
        "colab": {
          "base_uri": "https://localhost:8080/"
        },
        "id": "RP8_usuHbHDg",
        "outputId": "da31598a-8550-441b-cd23-53467754f186"
      },
      "outputs": [
        {
          "name": "stdout",
          "output_type": "stream",
          "text": [
            "aabc\n",
            "3\n",
            "1\n",
            "2\n",
            "1\n",
            "aabc\n",
            "vwxyz\n",
            "2\n",
            "3\n",
            "4\n",
            "xyzvw\n",
            "-\n"
          ]
        }
      ],
      "source": [
        "while True:\n",
        "  s = input()\n",
        "  if s == '-':\n",
        "    break\n",
        "  else:\n",
        "    m = int(input())\n",
        "    for _ in range(m):\n",
        "      h_i = int(input())\n",
        "      s = s[h_i:] + s[:h_i]\n",
        "    print(s)"
      ]
    }
  ]
}