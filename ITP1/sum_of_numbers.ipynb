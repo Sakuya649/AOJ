{
  "nbformat": 4,
  "nbformat_minor": 0,
  "metadata": {
    "colab": {
      "name": "sum_of_numbers.ipynb",
      "provenance": [],
      "collapsed_sections": [],
      "authorship_tag": "ABX9TyOtlm75cSBRQ031/GdR+0kM"
    },
    "kernelspec": {
      "name": "python3",
      "display_name": "Python 3"
    },
    "language_info": {
      "name": "python"
    }
  },
  "cells": [
    {
      "cell_type": "code",
      "metadata": {
        "colab": {
          "base_uri": "https://localhost:8080/"
        },
        "id": "UEUQQsNQogv3",
        "outputId": "0f95963a-6895-4568-ad43-af195be41ab8"
      },
      "source": [
        "while True:\n",
        "  x = input()\n",
        "  if x == \"0\":\n",
        "    break\n",
        "  print(sum([int(x_i) for x_i in x]))"
      ],
      "execution_count": 7,
      "outputs": [
        {
          "name": "stdout",
          "output_type": "stream",
          "text": [
            "123\n",
            "6\n",
            "55\n",
            "10\n",
            "1000\n",
            "1\n",
            "0\n"
          ]
        }
      ]
    }
  ]
}