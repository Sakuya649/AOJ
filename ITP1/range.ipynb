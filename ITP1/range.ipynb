{
  "nbformat": 4,
  "nbformat_minor": 0,
  "metadata": {
    "colab": {
      "name": "range.ipynb",
      "provenance": [],
      "authorship_tag": "ABX9TyMblUOrFCN89CsZK83t23kh"
    },
    "kernelspec": {
      "name": "python3",
      "display_name": "Python 3"
    },
    "language_info": {
      "name": "python"
    }
  },
  "cells": [
    {
      "cell_type": "code",
      "metadata": {
        "colab": {
          "base_uri": "https://localhost:8080/"
        },
        "id": "5GkqOY3krywK",
        "outputId": "e10c5d3d-118e-4c73-e38b-cfab87efca4c"
      },
      "source": [
        "a, b, c = map(int,input().split())\n",
        "if a < b and b < c:\n",
        "  print(\"Yes\")\n",
        "else:\n",
        "  print(\"No\")"
      ],
      "execution_count": 2,
      "outputs": [
        {
          "output_type": "stream",
          "name": "stdout",
          "text": [
            "3 8 1\n",
            "No\n"
          ]
        }
      ]
    }
  ]
}