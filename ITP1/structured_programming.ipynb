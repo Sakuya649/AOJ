{
  "nbformat": 4,
  "nbformat_minor": 0,
  "metadata": {
    "colab": {
      "name": "structured_programming.ipynb",
      "provenance": [],
      "authorship_tag": "ABX9TyPJPpE8amW+f4aT7OhH0xIm"
    },
    "kernelspec": {
      "name": "python3",
      "display_name": "Python 3"
    },
    "language_info": {
      "name": "python"
    }
  },
  "cells": [
    {
      "cell_type": "code",
      "metadata": {
        "colab": {
          "base_uri": "https://localhost:8080/"
        },
        "id": "RHJO2CNu2PZr",
        "outputId": "40f56b5a-efbb-4824-ecca-0af94dad361b"
      },
      "source": [
        "n = int(input())\n",
        "num_list = []\n",
        "for i in range(3, n+1):\n",
        "  if i % 3 == 0 or \"3\" in str(i):\n",
        "    num_list.append(i)\n",
        "print(\" \", end=\"\")\n",
        "print(*num_list)"
      ],
      "execution_count": 9,
      "outputs": [
        {
          "output_type": "stream",
          "name": "stdout",
          "text": [
            "30\n",
            " 3 6 9 12 13 15 18 21 23 24 27 30\n"
          ]
        }
      ]
    }
  ]
}