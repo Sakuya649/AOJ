{
  "nbformat": 4,
  "nbformat_minor": 0,
  "metadata": {
    "colab": {
      "name": "print_many_hello_world.ipynb",
      "provenance": [],
      "authorship_tag": "ABX9TyM2x2S0048lKb6HchMtkgDF"
    },
    "kernelspec": {
      "name": "python3",
      "display_name": "Python 3"
    },
    "language_info": {
      "name": "python"
    }
  },
  "cells": [
    {
      "cell_type": "code",
      "metadata": {
        "id": "VmLgDPJPtVYr"
      },
      "source": [
        "for i in range(1000):\n",
        "  print(\"Hello World\")"
      ],
      "execution_count": null,
      "outputs": []
    }
  ]
}