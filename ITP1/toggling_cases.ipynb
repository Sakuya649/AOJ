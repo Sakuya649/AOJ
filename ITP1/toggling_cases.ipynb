{
  "nbformat": 4,
  "nbformat_minor": 0,
  "metadata": {
    "colab": {
      "name": "toggling_cases.ipynb",
      "provenance": [],
      "collapsed_sections": [],
      "authorship_tag": "ABX9TyNH2EGSw3s0YtW4ZBO7ndsU"
    },
    "kernelspec": {
      "name": "python3",
      "display_name": "Python 3"
    },
    "language_info": {
      "name": "python"
    }
  },
  "cells": [
    {
      "cell_type": "code",
      "metadata": {
        "colab": {
          "base_uri": "https://localhost:8080/"
        },
        "id": "4fNql4LFm1ic",
        "outputId": "4f0b3391-29c6-4d8f-df7a-dcebbdafdb00"
      },
      "source": [
        "original_str = input()\n",
        "print(original_str.swapcase())"
      ],
      "execution_count": 1,
      "outputs": [
        {
          "output_type": "stream",
          "name": "stdout",
          "text": [
            "fAIR, LATER, OCCASIONALLY CLOUDY.\n",
            "Fair, later, occasionally cloudy.\n"
          ]
        }
      ]
    }
  ]
}