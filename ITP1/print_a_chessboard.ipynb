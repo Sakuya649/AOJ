{
  "nbformat": 4,
  "nbformat_minor": 0,
  "metadata": {
    "colab": {
      "name": "print_a_chessboard.ipynb",
      "provenance": [],
      "authorship_tag": "ABX9TyO+23GdeG3VDPxoKBKgN33n"
    },
    "kernelspec": {
      "name": "python3",
      "display_name": "Python 3"
    },
    "language_info": {
      "name": "python"
    }
  },
  "cells": [
    {
      "cell_type": "code",
      "metadata": {
        "colab": {
          "base_uri": "https://localhost:8080/"
        },
        "id": "7kICysYwyVwp",
        "outputId": "115271b4-299f-42d5-8e02-3a32c7eda16a"
      },
      "source": [
        "str1 = \"#.\" * 151\n",
        "while True:\n",
        "  h, w = map(int, input().split())\n",
        "  if h == 0:break\n",
        "  for i in range(h):\n",
        "    print(str1[i%2:i%2+w])\n",
        "  print()\n"
      ],
      "execution_count": 5,
      "outputs": [
        {
          "name": "stdout",
          "output_type": "stream",
          "text": [
            "3 4\n",
            "#.#.\n",
            ".#.#\n",
            "#.#.\n",
            "\n",
            "5 6\n",
            "#.#.#.\n",
            ".#.#.#\n",
            "#.#.#.\n",
            ".#.#.#\n",
            "#.#.#.\n",
            "\n",
            "3 3\n",
            "#.#\n",
            ".#.\n",
            "#.#\n",
            "\n",
            "2 2\n",
            "#.\n",
            ".#\n",
            "\n",
            "1 1\n",
            "#\n",
            "\n",
            "0 0\n"
          ]
        }
      ]
    }
  ]
}