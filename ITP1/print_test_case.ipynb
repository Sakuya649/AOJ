{
  "nbformat": 4,
  "nbformat_minor": 0,
  "metadata": {
    "colab": {
      "name": "print_test_case.ipynb",
      "provenance": [],
      "authorship_tag": "ABX9TyM9MvKLg8Uudj5pJ02IoOya"
    },
    "kernelspec": {
      "name": "python3",
      "display_name": "Python 3"
    },
    "language_info": {
      "name": "python"
    }
  },
  "cells": [
    {
      "cell_type": "code",
      "metadata": {
        "colab": {
          "base_uri": "https://localhost:8080/"
        },
        "id": "N1go4N7AngQd",
        "outputId": "164f2ead-efd6-4136-d682-e401a39b2a8f"
      },
      "source": [
        "x = int(input())\n",
        "i = 1\n",
        "while x != 0:\n",
        "  print(\"Case \" + str(i) + \": \" + str(x))\n",
        "  x = int(input())\n",
        "  i += 1"
      ],
      "execution_count": 2,
      "outputs": [
        {
          "name": "stdout",
          "output_type": "stream",
          "text": [
            "3\n",
            "Case 1: 3\n",
            "5\n",
            "Case 2: 5\n",
            "11\n",
            "Case 3: 11\n",
            "7\n",
            "Case 4: 7\n",
            "8\n",
            "Case 5: 8\n",
            "19\n",
            "Case 6: 19\n",
            "0\n"
          ]
        }
      ]
    }
  ]
}