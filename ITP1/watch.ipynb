{
  "nbformat": 4,
  "nbformat_minor": 0,
  "metadata": {
    "colab": {
      "name": "watch.ipynb",
      "provenance": [],
      "authorship_tag": "ABX9TyOlpKkHmoiXi9OMGf+b7POY"
    },
    "kernelspec": {
      "name": "python3",
      "display_name": "Python 3"
    },
    "language_info": {
      "name": "python"
    }
  },
  "cells": [
    {
      "cell_type": "code",
      "metadata": {
        "colab": {
          "base_uri": "https://localhost:8080/"
        },
        "id": "krjIcooCY6p-",
        "outputId": "8408d01f-f571-4562-b265-aba6ff649ff5"
      },
      "source": [
        "x = int(input())\n",
        "h, m = divmod(x, 3600)\n",
        "m, s = divmod(m, 60)\n",
        "print(h, m, s, sep=\":\")\n"
      ],
      "execution_count": 4,
      "outputs": [
        {
          "output_type": "stream",
          "name": "stdout",
          "text": [
            "46979\n",
            "13:2:59\n"
          ]
        }
      ]
    }
  ]
}