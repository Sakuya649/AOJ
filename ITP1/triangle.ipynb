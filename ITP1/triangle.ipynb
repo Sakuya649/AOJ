{
  "nbformat": 4,
  "nbformat_minor": 0,
  "metadata": {
    "colab": {
      "name": "triangle.ipynb",
      "provenance": [],
      "mount_file_id": "1BiD517vSaEvpQtuRtW2jYFoKWEZqN9nn",
      "authorship_tag": "ABX9TyPT/Xjw1T9LCEGMhKKKNzks"
    },
    "kernelspec": {
      "name": "python3",
      "display_name": "Python 3"
    },
    "language_info": {
      "name": "python"
    }
  },
  "cells": [
    {
      "cell_type": "code",
      "execution_count": 4,
      "metadata": {
        "colab": {
          "base_uri": "https://localhost:8080/"
        },
        "id": "hb1oYf6aml2k",
        "outputId": "447ff0ab-c9d0-4d95-8337-9c0915732861"
      },
      "outputs": [
        {
          "output_type": "stream",
          "name": "stdout",
          "text": [
            "4 3 90\n",
            "6.0\n",
            "12.0\n",
            "3.0\n"
          ]
        }
      ],
      "source": [
        "import math\n",
        "a, b, c = map(int, input().split())\n",
        "theta = math.radians(c)\n",
        "print(1/2 * a* b * math.sin(theta))\n",
        "print(a + b + (a**2 + b**2 - 2*a*b * math.cos(theta))**0.5)\n",
        "print(b * math.sin(theta))"
      ]
    }
  ]
}