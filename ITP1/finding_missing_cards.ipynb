{
  "nbformat": 4,
  "nbformat_minor": 0,
  "metadata": {
    "colab": {
      "name": "finding_missing_cards.ipynb",
      "provenance": [],
      "authorship_tag": "ABX9TyNr3beQX8H3CXCnjhVoR6zc"
    },
    "kernelspec": {
      "name": "python3",
      "display_name": "Python 3"
    },
    "language_info": {
      "name": "python"
    }
  },
  "cells": [
    {
      "cell_type": "code",
      "metadata": {
        "colab": {
          "base_uri": "https://localhost:8080/"
        },
        "id": "25Epc6kaaX7I",
        "outputId": "06f3bb3b-705a-45b4-e7d2-f04115996618"
      },
      "source": [
        "card_list = [f'{s} {i}' for s in \"SHCD\" for i in range(1, 14)]\n",
        "n = int(input())\n",
        "for _ in range(n):\n",
        "  card_list.remove(input())\n",
        "for x in card_list:\n",
        "  print(x)"
      ],
      "execution_count": 14,
      "outputs": [
        {
          "output_type": "stream",
          "name": "stdout",
          "text": [
            "1\n",
            "S 1\n",
            "S 2\n",
            "S 3\n",
            "S 4\n",
            "S 5\n",
            "S 6\n",
            "S 7\n",
            "S 8\n",
            "S 9\n",
            "S 10\n",
            "S 11\n",
            "S 12\n",
            "S 13\n",
            "H 1\n",
            "H 2\n",
            "H 3\n",
            "H 4\n",
            "H 5\n",
            "H 6\n",
            "H 7\n",
            "H 8\n",
            "H 9\n",
            "H 10\n",
            "H 11\n",
            "H 12\n",
            "H 13\n",
            "C 1\n",
            "C 2\n",
            "C 3\n",
            "C 4\n",
            "C 5\n",
            "C 6\n",
            "C 7\n",
            "C 8\n",
            "C 9\n",
            "C 10\n",
            "C 11\n",
            "C 12\n",
            "C 13\n",
            "D 1\n",
            "D 2\n",
            "D 3\n",
            "D 4\n",
            "D 5\n",
            "D 6\n",
            "D 7\n",
            "D 8\n",
            "D 9\n",
            "D 10\n",
            "D 11\n",
            "D 12\n",
            "D 13\n"
          ]
        }
      ]
    }
  ]
}