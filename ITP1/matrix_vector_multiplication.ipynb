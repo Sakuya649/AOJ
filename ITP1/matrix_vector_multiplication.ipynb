{
  "nbformat": 4,
  "nbformat_minor": 0,
  "metadata": {
    "colab": {
      "name": "matrix_vector_multiplication.ipynb",
      "provenance": [],
      "authorship_tag": "ABX9TyPHL1kOXHFe/B1WpdoQiYLA"
    },
    "kernelspec": {
      "name": "python3",
      "display_name": "Python 3"
    },
    "language_info": {
      "name": "python"
    }
  },
  "cells": [
    {
      "cell_type": "code",
      "metadata": {
        "colab": {
          "base_uri": "https://localhost:8080/"
        },
        "id": "2yO0IrpEzQML",
        "outputId": "50bf2aa3-57ed-4f98-ff23-dafd51ce6a15"
      },
      "source": [
        "n, m = map(int, input().split())\n",
        "a_list = [[int(a) for a in input().split()] for _ in range(n)]\n",
        "b_list = [int(input()) for b in range(m)]\n",
        "for a in a_list:\n",
        "  print(sum(a[i]*b_list[i] for i in range(m)))"
      ],
      "execution_count": 12,
      "outputs": [
        {
          "output_type": "stream",
          "name": "stdout",
          "text": [
            "3 4\n",
            "1 2 0 1\n",
            "0 3 0 1\n",
            "4 1 1 0\n",
            "1\n",
            "2\n",
            "3\n",
            "0\n",
            "5\n",
            "6\n",
            "9\n"
          ]
        }
      ]
    }
  ]
}