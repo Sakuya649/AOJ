{
  "nbformat": 4,
  "nbformat_minor": 0,
  "metadata": {
    "colab": {
      "name": "print_a_frame.ipynb",
      "provenance": [],
      "authorship_tag": "ABX9TyMBSkSLLrgBC3qx1PaqileM"
    },
    "kernelspec": {
      "name": "python3",
      "display_name": "Python 3"
    },
    "language_info": {
      "name": "python"
    }
  },
  "cells": [
    {
      "cell_type": "code",
      "metadata": {
        "colab": {
          "base_uri": "https://localhost:8080/"
        },
        "id": "eZ5wx3Knw5jF",
        "outputId": "7f01f4dd-4c3b-47d3-da8b-081f72d2facb"
      },
      "source": [
        "while True:\n",
        "  h, w = map(int, input().split())\n",
        "  if h == 0:break\n",
        "  for i in range(h):\n",
        "    if i == 0 or i == h-1:\n",
        "      print(\"#\"*w)\n",
        "    else:\n",
        "      print(\"#\" + \".\"*(w-2) + \"#\")\n",
        "  print()"
      ],
      "execution_count": 2,
      "outputs": [
        {
          "name": "stdout",
          "output_type": "stream",
          "text": [
            "3 4\n",
            "####\n",
            "#..#\n",
            "####\n",
            "\n",
            "5 6\n",
            "######\n",
            "#....#\n",
            "#....#\n",
            "#....#\n",
            "######\n",
            "\n",
            "3 3\n",
            "###\n",
            "#.#\n",
            "###\n",
            "\n",
            "0 0\n"
          ]
        }
      ]
    }
  ]
}