{
  "nbformat": 4,
  "nbformat_minor": 0,
  "metadata": {
    "colab": {
      "name": "grading.ipynb",
      "provenance": [],
      "authorship_tag": "ABX9TyOA3hKyejWjxfxfxzrQuRzf"
    },
    "kernelspec": {
      "name": "python3",
      "display_name": "Python 3"
    },
    "language_info": {
      "name": "python"
    }
  },
  "cells": [
    {
      "cell_type": "code",
      "metadata": {
        "colab": {
          "base_uri": "https://localhost:8080/"
        },
        "id": "LzkzmdIfMQId",
        "outputId": "9b96d02b-4026-4a45-d77c-6490ace85d40"
      },
      "source": [
        "while True:\n",
        "  m, f, r = map(int, input().split())\n",
        "  if m + f + r == -3:\n",
        "    break\n",
        "  if m == -1 or f == -1 or m + f < 30:\n",
        "    print(\"F\")\n",
        "  elif m + f >= 80:\n",
        "    print(\"A\")\n",
        "  elif m + f >= 65:\n",
        "    print(\"B\")\n",
        "  elif m + f >= 50 or (m + f >= 30 and r >= 50):\n",
        "    print(\"C\")\n",
        "  elif m + f >= 30:\n",
        "    print(\"D\")"
      ],
      "execution_count": 2,
      "outputs": [
        {
          "name": "stdout",
          "output_type": "stream",
          "text": [
            "40 42 -1\n",
            "A\n",
            "20 30 -1\n",
            "C\n",
            "0 2 -1\n",
            "F\n",
            "-1 -1 -1\n"
          ]
        }
      ]
    }
  ]
}