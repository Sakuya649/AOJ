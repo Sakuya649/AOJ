{
  "nbformat": 4,
  "nbformat_minor": 0,
  "metadata": {
    "colab": {
      "name": "nlp100_24.ipynb",
      "provenance": [],
      "mount_file_id": "1VBcmWVVt514ab2TEixEZZZ_LcV0YqiX4",
      "authorship_tag": "ABX9TyPYfKQ+gr9f1VW9r2Fcm2g6"
    },
    "kernelspec": {
      "name": "python3",
      "display_name": "Python 3"
    },
    "language_info": {
      "name": "python"
    }
  },
  "cells": [
    {
      "cell_type": "code",
      "execution_count": 3,
      "metadata": {
        "colab": {
          "base_uri": "https://localhost:8080/"
        },
        "id": "oNKRCmabunN9",
        "outputId": "90946c77-d604-471e-ffc9-7b8edf8f5264"
      },
      "outputs": [
        {
          "output_type": "stream",
          "name": "stdout",
          "text": [
            "Royal Coat of Arms of the United Kingdom.svg\n",
            "Royal Coat of Arms of the United Kingdom (Scotland).svg\n",
            "Europe-UK (orthographic projection).svg\n",
            "Europe-UK.svg\n",
            "United Kingdom (+overseas territories and crown dependencies) in the World (+Antarctica claims).svg\n",
            "Stonehenge, Condado de Wiltshire, Inglaterra, 2014-08-12, DD 18.JPG\n",
            "Bayeux Tapestry WillelmDux.jpg\n",
            "State House- 1620 - St Geo - Bermuda.jpg\n",
            "Treaty of Union.jpg\n",
            "Royal Irish Rifles ration party Somme July 1916.jpg\n",
            "The British Empire.png\n",
            "Tratado de Lisboa 13 12 2007 (081).jpg\n",
            "Uk topo en.jpg\n",
            "Inside the Reef Cayman.jpg\n",
            "Cap Juluca - Anguilla.jpg\n",
            "Bermuda-Harbour and Town of St George.jpg\n",
            "Rothera from reptile.jpg\n",
            "Roadtown, Tortola.jpg\n",
            "Upland.jpg\n",
            "Catalan Bay from The Rock.JPG\n",
            "Soufriere Hills.jpg\n",
            "Bounty_bay.jpg\n",
            "St-Helena-Jamestown-from-above.jpg\n",
            "Grytviken_church.jpg\n",
            "Cockburn Town.jpg\n",
            "Mont Orgueil and Gorey harbour, Jersey.jpg\n",
            "St Peter Port Guernsey.jpg\n",
            "The_View_From_Douglas_Head,_Isle_Of_Man..jpg\n",
            "London Parliament 2007-1.jpg\n",
            "UK Political System.png\n",
            "Scottish Parliament, Main Debating Chamber - geograph.org.uk - 1650829.jpg\n",
            "Royal Courts of Justice 2019.jpg\n",
            "High Court of Justiciary.jpg\n",
            "Gibraltar National Day 027 (9719742224) (2).jpg\n",
            "HMS Queen Elizabeth (R08) underway during trials with HMS Sutherland (F81) and HMS Iron Duke (F234) on 28 June 2017 (45162784).jpg\n",
            "Banco de Inglaterra, Londres, Inglaterra, 2014-08-11, DD 141.JPG\n",
            "2017 Jaguar XE Portfolio Diesel Automatic 2.0 Front.jpg\n",
            "British Airways A380-841 G-XLEA (16948377692).jpg\n",
            "Darwin restored2.jpg\n",
            "Heathrow T5.jpg\n",
            "St Pancras Railway Station 2012-06-23.jpg\n",
            "Oil platform in the North SeaPros.jpg\n",
            "Population density UK 2011 census.png\n",
            "Non-white in the 2011 census.png\n",
            "Anglospeak.png\n",
            "West Side of Westminster Abbey, London - geograph.org.uk - 1406999.jpg\n",
            "Neasden Temple - Shree Swaminarayan Hindu Mandir - Gate.jpg\n",
            "United Kingdom foreign born population by country of birth.png\n",
            "The Prime Minister, Shri Narendra Modi and the Prime Minister of United Kingdom (UK), Mr. David Cameron interacting with the school children, at Wembley Stadium, in London on November 13, 2015.jpg\n",
            "British expats countrymap.svg\n",
            "Tom Quad, Christ Church 2004-01-21.jpg\n",
            "KingsCollegeChapelWest.jpg\n",
            "Edinburgh New College (8594473141).jpg\n",
            "15th Sep 2012-Abdn Children's Hosp & Emergency Care Centre 10.JPG\n",
            "Shakespeare.jpg\n",
            "Dickens by Watkins 1858.png\n",
            "The Fabs.JPG\n",
            "Turner selfportrait.jpg\n",
            "Hitchcock, Alfred 02.jpg\n",
            "Chicken tikka masala.jpg\n",
            "Bbc broadcasting house front.jpg\n",
            "Wembley-STadion 2013.JPG\n",
            "Inside the Millennium Stadium, Cardiff.jpg\n",
            "Saville vs Broady – Wimbledon Boys Singles Final 2011.jpg\n",
            "R&A Clubhouse, Old Course, Swilcan Burn bridge.jpg\n",
            "Britannia-Statue.jpg\n"
          ]
        }
      ],
      "source": [
        "import json\n",
        "import re\n",
        "\n",
        "filename = \"/content/drive/MyDrive/Colab Notebooks/NLP100/chap03/data/enwiki-country.json\"\n",
        "with open(filename, mode='r') as f:\n",
        "  for line in f:\n",
        "    line = json.loads(line)\n",
        "    if line[\"title\"] == \"United Kingdom\":\n",
        "      text = line[\"text\"]\n",
        "      break\n",
        "pattern = r'\\[\\[File:(.+?)\\|'\n",
        "result = '\\n'.join(re.findall(pattern, text))\n",
        "print(result)"
      ]
    }
  ]
}