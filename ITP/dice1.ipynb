{
  "nbformat": 4,
  "nbformat_minor": 0,
  "metadata": {
    "colab": {
      "name": "dice1.ipynb",
      "provenance": [],
      "mount_file_id": "1GszX6ycapcmgCD6eZa_wES8_Y7tIc7F8",
      "authorship_tag": "ABX9TyPDjzKtYifgl110OKkWpkrp"
    },
    "kernelspec": {
      "name": "python3",
      "display_name": "Python 3"
    },
    "language_info": {
      "name": "python"
    }
  },
  "cells": [
    {
      "cell_type": "code",
      "execution_count": 4,
      "metadata": {
        "colab": {
          "base_uri": "https://localhost:8080/"
        },
        "id": "sm5Gb2IOziEB",
        "outputId": "ac7bf5e2-fe83-4445-c670-fa189c022024"
      },
      "outputs": [
        {
          "output_type": "stream",
          "name": "stdout",
          "text": [
            "1 2 4 8 16 32\n",
            "SE\n",
            "8\n"
          ]
        }
      ],
      "source": [
        "r={'N':(1,5,2,3,0,4),'S':(4,0,2,3,5,1),'E':(3,1,0,5,4,2),'W':(2,1,5,0,4,3)}\n",
        "d = input().split()\n",
        "for x in input():\n",
        "  d = [d[i] for i in r[x]]\n",
        "print(d[0])"
      ]
    }
  ]
}